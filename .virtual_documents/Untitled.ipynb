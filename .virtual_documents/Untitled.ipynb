import pandas as pd


file_path = "C:/Users/user/Desktop/han-toss-dashboard/data/ecos.csv"
df = pd.read_csv(file_path)
df


type(df)


df.drop(['Unnamed: 6', 'Unnamed: 7'], axis = 1)
df.head()


df = df.loc[:,'항목명1':'소비자물가지수']
df


df_test = df.loc[[1,13,25,37,49,61,73,85,97,109],:]
df = pd.DataFrame(df_test)
df



