import pandas as pd
import matplotlib.pyplot as plt
import seaborn as sns
import numpy as np
from scipy import stats
from scipy.stats import pearsonr
import statsmodels.api as sm


file_path = "C:/Users/user/Desktop/han-toss-dashboard/data/ecos.csv"
df = pd.read_csv(file_path)
df


df['DATE']





fig, ax = plt.subplots(3,2, figsize = (20,15))
# 첫 번째 서브플롯
ax[0, 0].plot(df['DATE'], df['aptpriceindex'], marker='o')
ax[0, 0].set_xlabel('Date')
ax[0, 0].set_ylabel('Price Index')
ax[0, 0].set_title('Price Index Over Time')

ax[0, 1].plot(df['DATE'], df['cd'], marker='o')
ax[0, 1].set_xlabel('Date')
ax[0, 1].set_ylabel('CD')
ax[0, 1].set_title('CD Over Time')

ax[1, 0].plot(df['DATE'], df['unemploymentrate'], marker='o')
ax[1, 0].set_xlabel('Date')
ax[1, 0].set_ylabel('unemploymentrate')
ax[1, 0].set_title('unemploymentrate Over Time')

ax[1, 1].plot(df['DATE'], df['constructionpricerate'], marker='o')
ax[1, 1].set_xlabel('Date')
ax[1, 1].set_ylabel('constructionpricerate')
ax[1, 1].set_title('constructionpricerate Over Time')

ax[2, 0].plot(df['DATE'], df['cpi'], marker='o')
ax[2, 0].set_xlabel('Date')
ax[2, 0].set_ylabel('cpi')
ax[2, 0].set_title('cpi Over Time')


# 다섯 가지 지표를 한 그래프에 표시
ax[2, 1].plot(df.index, df['aptpriceindex'], marker='o', label='aptpriceindex')
ax[2, 1].plot(df.index, df['cd'], marker='x', label='cd')
ax[2, 1].plot(df.index, df['unemploymentrate'], marker='s', label='unemploymentrate')
ax[2, 1].plot(df.index, df['constructionpricerate'], marker='d', label='constructionpricerate')
ax[2, 1].plot(df.index, df['cpi'], marker='^', label='cpi')
ax[2, 1].set_xlabel('Date')
ax[2, 1].set_ylabel('Value')
ax[2, 1].set_title('All Indicators Over Time')
ax[2, 1].legend()




# 날짜 레이블이 잘 보이도록 회전
for ax_row in ax:
    for ax_item in ax_row:
        for label in ax_item.get_xticklabels():
            label.set_rotation(45)
            
# 레이아웃 조정
plt.tight_layout()

# 그래프 보여주기
plt.show()





X = df[['cd', 'unemploymentrate', 'constructionpricerate', 'cpi']]
y = df['aptpriceindex']
# 상수 추가
X = sm.add_constant(X)

# 회귀 모델 적합
model = sm.OLS(y, X).fit()

# 회귀 분석 결과 출력
print(model.summary())



